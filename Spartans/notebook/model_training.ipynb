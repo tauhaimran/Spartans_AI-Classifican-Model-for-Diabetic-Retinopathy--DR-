{
  "cells": [
    {
      "cell_type": "markdown",
      "metadata": {
        "id": "VLF_d0FHtyvM"
      },
      "source": [
        "## Spartans_AI-Classifican-Model-for-Diabetic-Retinopathy--DR-\n",
        "- Tauha Imran\n",
        "- Moaz Farooq\n",
        "- Sarim Rasheed"
      ]
    },
    {
      "cell_type": "code",
      "execution_count": null,
      "metadata": {
        "colab": {
          "base_uri": "https://localhost:8080/"
        },
        "id": "M4t3HVagusYF",
        "outputId": "fa308130-b780-465f-fb30-277d3b9ef616"
      },
      "outputs": [
        {
          "name": "stderr",
          "output_type": "stream",
          "text": [
            "C:\\Users\\tauha\\AppData\\Local\\Packages\\PythonSoftwareFoundation.Python.3.13_qbz5n2kfra8p0\\LocalCache\\local-packages\\Python313\\site-packages\\tqdm\\auto.py:21: TqdmWarning: IProgress not found. Please update jupyter and ipywidgets. See https://ipywidgets.readthedocs.io/en/stable/user_install.html\n",
            "  from .autonotebook import tqdm as notebook_tqdm\n"
          ]
        },
        {
          "name": "stdout",
          "output_type": "stream",
          "text": [
            "Downloading from https://www.kaggle.com/api/v1/datasets/download/kushagratandon12/diabetic-retinopathy-balanced?dataset_version_number=1...\n"
          ]
        },
        {
          "name": "stderr",
          "output_type": "stream",
          "text": [
            "  1%|          | 23.0M/1.90G [00:11<13:34, 2.47MB/s]"
          ]
        }
      ],
      "source": [
        "# ONLY RUN IF DATA NOT DOWNLOADED!!!\n",
        "# RUN THIS CELL ONLY ONCE!!!\n",
        "\n",
        "#if dependency issue\n",
        "# pip install kagglehub\n",
        "\n",
        "# Importing TensorFlow - dataset\n",
        "import kagglehub\n",
        "# Download latest version\n",
        "path = kagglehub.dataset_download(\"kushagratandon12/diabetic-retinopathy-balanced\")\n",
        "\n",
        "print(\"Path to dataset files:\", path)"
      ]
    },
    {
      "cell_type": "markdown",
      "metadata": {
        "id": "0IOoPLoQu7DK"
      },
      "source": [
        "The actual model training code"
      ]
    },
    {
      "cell_type": "code",
      "execution_count": 6,
      "metadata": {
        "colab": {
          "base_uri": "https://localhost:8080/"
        },
        "id": "FtAauKYst33n",
        "outputId": "50b46e5a-f914-473f-bd02-fc38956e2743"
      },
      "outputs": [
        {
          "name": "stdout",
          "output_type": "stream",
          "text": [
            "testing\n"
          ]
        }
      ],
      "source": [
        "\n",
        "\n",
        "# Importing TensorFlow\n",
        "import tensorflow as tf\n",
        "\n",
        "# Importing PyTorch\n",
        "import torch\n",
        "\n",
        "# Importing OpenCV\n",
        "import cv2\n",
        "\n",
        "# Importing FastAI\n",
        "#from fastai.vision.all import *\n",
        "\n",
        "# Importing Scikit-Learn\n",
        "import sklearn\n",
        "\n",
        "print('testing')\n"
      ]
    },
    {
      "cell_type": "code",
      "execution_count": null,
      "metadata": {
        "id": "TndIz1VCvdFB"
      },
      "outputs": [],
      "source": []
    }
  ],
  "metadata": {
    "colab": {
      "provenance": []
    },
    "kernelspec": {
      "display_name": "Python 3",
      "name": "python3"
    },
    "language_info": {
      "codemirror_mode": {
        "name": "ipython",
        "version": 3
      },
      "file_extension": ".py",
      "mimetype": "text/x-python",
      "name": "python",
      "nbconvert_exporter": "python",
      "pygments_lexer": "ipython3",
      "version": "3.13.2"
    }
  },
  "nbformat": 4,
  "nbformat_minor": 0
}
