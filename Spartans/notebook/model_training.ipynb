{
  "nbformat": 4,
  "nbformat_minor": 0,
  "metadata": {
    "colab": {
      "provenance": []
    },
    "kernelspec": {
      "name": "python3",
      "display_name": "Python 3"
    },
    "language_info": {
      "name": "python"
    }
  },
  "cells": [
    {
      "cell_type": "markdown",
      "source": [
        "## Spartans_AI-Classifican-Model-for-Diabetic-Retinopathy--DR-\n",
        "- Tauha Imran\n",
        "- Moaz Farooq\n",
        "- Sarim Rasheed"
      ],
      "metadata": {
        "id": "VLF_d0FHtyvM"
      }
    },
    {
      "cell_type": "code",
      "source": [
        "# ONLY RUN IF DATA NOT DOWNLOADED!!!\n",
        "# RUN THIS CELL ONLY ONCE!!!\n",
        "\n",
        "# Importing TensorFlow - dataset\n",
        "import kagglehub\n",
        "# Download latest version\n",
        "path = kagglehub.dataset_download(\"kushagratandon12/diabetic-retinopathy-balanced\")\n",
        "\n",
        "print(\"Path to dataset files:\", path)"
      ],
      "metadata": {
        "colab": {
          "base_uri": "https://localhost:8080/"
        },
        "id": "M4t3HVagusYF",
        "outputId": "fa308130-b780-465f-fb30-277d3b9ef616"
      },
      "execution_count": 3,
      "outputs": [
        {
          "output_type": "stream",
          "name": "stdout",
          "text": [
            "Downloading from https://www.kaggle.com/api/v1/datasets/download/kushagratandon12/diabetic-retinopathy-balanced?dataset_version_number=1...\n"
          ]
        },
        {
          "output_type": "stream",
          "name": "stderr",
          "text": [
            "100%|██████████| 1.90G/1.90G [00:17<00:00, 119MB/s]"
          ]
        },
        {
          "output_type": "stream",
          "name": "stdout",
          "text": [
            "Extracting files...\n"
          ]
        },
        {
          "output_type": "stream",
          "name": "stderr",
          "text": [
            "\n"
          ]
        },
        {
          "output_type": "stream",
          "name": "stdout",
          "text": [
            "Path to dataset files: /root/.cache/kagglehub/datasets/kushagratandon12/diabetic-retinopathy-balanced/versions/1\n"
          ]
        }
      ]
    },
    {
      "cell_type": "markdown",
      "source": [],
      "metadata": {
        "id": "BU_Sx-Uhury7"
      }
    },
    {
      "cell_type": "markdown",
      "source": [
        "The actual model training code"
      ],
      "metadata": {
        "id": "0IOoPLoQu7DK"
      }
    },
    {
      "cell_type": "code",
      "source": [
        "\n",
        "\n",
        "# Importing TensorFlow\n",
        "import tensorflow as tf\n",
        "\n",
        "# Importing PyTorch\n",
        "import torch\n",
        "\n",
        "# Importing OpenCV\n",
        "import cv2\n",
        "\n",
        "# Importing FastAI\n",
        "#from fastai.vision.all import *\n",
        "\n",
        "# Importing Scikit-Learn\n",
        "import sklearn\n",
        "\n",
        "print('testing')\n"
      ],
      "metadata": {
        "colab": {
          "base_uri": "https://localhost:8080/"
        },
        "id": "FtAauKYst33n",
        "outputId": "50b46e5a-f914-473f-bd02-fc38956e2743"
      },
      "execution_count": 6,
      "outputs": [
        {
          "output_type": "stream",
          "name": "stdout",
          "text": [
            "testing\n"
          ]
        }
      ]
    },
    {
      "cell_type": "code",
      "source": [],
      "metadata": {
        "id": "TndIz1VCvdFB"
      },
      "execution_count": null,
      "outputs": []
    }
  ]
}